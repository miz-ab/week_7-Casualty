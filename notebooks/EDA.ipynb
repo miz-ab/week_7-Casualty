{
  "nbformat": 4,
  "nbformat_minor": 2,
  "metadata": {
    "colab": {
      "name": "EDA.ipynb",
      "provenance": [],
      "mount_file_id": "1aq1krVs0Cg--j_rEJtk10lSYKcNSkrxz",
      "authorship_tag": "ABX9TyPqn173tiomQbImc74ShuYX",
      "include_colab_link": true
    },
    "kernelspec": {
      "name": "python3",
      "display_name": "Python 3.8.8 64-bit ('base': conda)"
    },
    "language_info": {
      "name": "python",
      "version": "3.8.8",
      "mimetype": "text/x-python",
      "codemirror_mode": {
        "name": "ipython",
        "version": 3
      },
      "pygments_lexer": "ipython3",
      "nbconvert_exporter": "python",
      "file_extension": ".py"
    },
    "interpreter": {
      "hash": "6e6617357c787d5a31c3e430c2798331ba4a3908d3dc6ef5abaa59c85cdb70f4"
    }
  },
  "cells": [
    {
      "cell_type": "markdown",
      "source": [
        "<a href=\"https://colab.research.google.com/github/miz-ab/week_7-Casualty/blob/main/notebooks/EDA.ipynb\" target=\"_parent\"><img src=\"https://colab.research.google.com/assets/colab-badge.svg\" alt=\"Open In Colab\"/></a>"
      ],
      "metadata": {
        "id": "view-in-github",
        "colab_type": "text"
      }
    },
    {
      "cell_type": "code",
      "execution_count": 3,
      "source": [
        "import os\r\n",
        "import sys\r\n",
        "sys.path.append(os.path.abspath(os.path.join('..')))\r\n",
        "\r\n",
        "import warnings\r\n",
        "warnings.filterwarnings('ignore')"
      ],
      "outputs": [],
      "metadata": {
        "id": "_2eBseS2H1tH"
      }
    },
    {
      "cell_type": "code",
      "execution_count": 9,
      "source": [
        "import pandas as pd\r\n",
        "pd.set_option('display.max_columns', None)\r\n",
        "pd.set_option('display.max_rows', None)"
      ],
      "outputs": [],
      "metadata": {}
    },
    {
      "cell_type": "code",
      "execution_count": 10,
      "source": [
        "\r\n",
        "from script import load_file"
      ],
      "outputs": [],
      "metadata": {}
    },
    {
      "cell_type": "code",
      "execution_count": 11,
      "source": [
        "\r\n",
        "file_name = '../data/data.csv'\r\n",
        "data = load_file.read_csv(file_name)"
      ],
      "outputs": [],
      "metadata": {}
    },
    {
      "cell_type": "code",
      "execution_count": null,
      "source": [
        "data_info = load_file.info(data)\r\n",
        "data_info"
      ],
      "outputs": [],
      "metadata": {}
    }
  ]
}